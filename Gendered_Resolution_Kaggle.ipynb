{
  "nbformat": 4,
  "nbformat_minor": 0,
  "metadata": {
    "colab": {
      "name": "Gendered Resolution Kaggle.ipynb",
      "version": "0.3.2",
      "provenance": []
    },
    "kernelspec": {
      "name": "python3",
      "display_name": "Python 3"
    }
  },
  "cells": [
    {
      "metadata": {
        "id": "dsqzO1LZtGP0",
        "colab_type": "text"
      },
      "cell_type": "markdown",
      "source": [
        "# Loading data\n",
        "\n",
        "Upload the competition's .tsv file to Google Drive"
      ]
    },
    {
      "metadata": {
        "id": "KdjC-_qVtDD2",
        "colab_type": "code",
        "outputId": "36c9e37f-c7f1-4ef1-ea34-8cc8c23df576",
        "colab": {
          "base_uri": "https://localhost:8080/",
          "height": 70
        }
      },
      "cell_type": "code",
      "source": [
        "#Connecting to Google Drive for dataset access\n",
        "!pip install -U -q PyDrive\n",
        " \n",
        "from pydrive.auth import GoogleAuth\n",
        "from pydrive.drive import GoogleDrive\n",
        "from google.colab import auth\n",
        "from oauth2client.client import GoogleCredentials\n",
        " \n",
        "# 1. Authenticate and create the PyDrive client.\n",
        "auth.authenticate_user()\n",
        "gauth = GoogleAuth()\n",
        "gauth.credentials = GoogleCredentials.get_application_default()\n",
        "drive = GoogleDrive(gauth)\n",
        "\n",
        "file_list = drive.ListFile({'q': \"'1NmIiXgqRs1TTIn3wFZG2aa0QCwkr89y7' in parents and trashed=false\"}).GetList()\n",
        "for file1 in file_list:\n",
        "  print('title: %s, id: %s' % (file1['title'], file1['id']))"
      ],
      "execution_count": 0,
      "outputs": [
        {
          "output_type": "stream",
          "text": [
            "title: gendered-pronoun-resolution.zip, id: 1m45CHcYuTinEBTwoJ_qAMZU1_Cx6V2q9\n",
            "title: test_stage_1.tsv, id: 1Ggca0VY2PXezXX9srkbEBEH9f1EHQBSp\n",
            "title: sample_submission_stage_1.csv, id: 1gWpfR9MtjQfl9kqCYUDUIMV5ZuIO60SP\n"
          ],
          "name": "stdout"
        }
      ]
    },
    {
      "metadata": {
        "id": "2Iaj8lsBtxBR",
        "colab_type": "code",
        "outputId": "083413cb-4513-4379-9c95-4c8350c5ab50",
        "colab": {
          "base_uri": "https://localhost:8080/",
          "height": 203
        }
      },
      "cell_type": "code",
      "source": [
        "dataset_name = \"test_stage_1.tsv\"\n",
        "\n",
        "def get_data_set():\n",
        "  if (dataset_name == \"\"):\n",
        "    requested_dataset_name = input().lower()\n",
        "    requested_dataset_id = 0\n",
        "  else:\n",
        "    requested_dataset_name = dataset_name\n",
        "  for file in file_list:\n",
        "    if file['title'].lower() == requested_dataset_name:\n",
        "      requested_dataset_id = file['id']\n",
        "      break\n",
        "      \n",
        "  if requested_dataset_id == 0:\n",
        "    raise FileNotFoundError('1','No dataset with the name ' + requested_dataset_name + ' could be found. Are you in the correct folder?')\n",
        "  \n",
        "  data = drive.CreateFile({'id': requested_dataset_id})\n",
        "  data.GetContentFile(requested_dataset_name)\n",
        "  \n",
        "  import pandas as po\n",
        "  dataset = po.read_csv(requested_dataset_name, sep = \"\\t\")\n",
        "  return dataset\n",
        "\n",
        "dataset = get_data_set()\n",
        "\n",
        "dataset.head(5)"
      ],
      "execution_count": 0,
      "outputs": [
        {
          "output_type": "execute_result",
          "data": {
            "text/html": [
              "<div>\n",
              "<style scoped>\n",
              "    .dataframe tbody tr th:only-of-type {\n",
              "        vertical-align: middle;\n",
              "    }\n",
              "\n",
              "    .dataframe tbody tr th {\n",
              "        vertical-align: top;\n",
              "    }\n",
              "\n",
              "    .dataframe thead th {\n",
              "        text-align: right;\n",
              "    }\n",
              "</style>\n",
              "<table border=\"1\" class=\"dataframe\">\n",
              "  <thead>\n",
              "    <tr style=\"text-align: right;\">\n",
              "      <th></th>\n",
              "      <th>ID</th>\n",
              "      <th>Text</th>\n",
              "      <th>Pronoun</th>\n",
              "      <th>Pronoun-offset</th>\n",
              "      <th>A</th>\n",
              "      <th>A-offset</th>\n",
              "      <th>B</th>\n",
              "      <th>B-offset</th>\n",
              "      <th>URL</th>\n",
              "    </tr>\n",
              "  </thead>\n",
              "  <tbody>\n",
              "    <tr>\n",
              "      <th>0</th>\n",
              "      <td>development-1</td>\n",
              "      <td>Zoe Telford -- played the police officer girlf...</td>\n",
              "      <td>her</td>\n",
              "      <td>274</td>\n",
              "      <td>Cheryl Cassidy</td>\n",
              "      <td>191</td>\n",
              "      <td>Pauline</td>\n",
              "      <td>207</td>\n",
              "      <td>http://en.wikipedia.org/wiki/List_of_Teachers_...</td>\n",
              "    </tr>\n",
              "    <tr>\n",
              "      <th>1</th>\n",
              "      <td>development-2</td>\n",
              "      <td>He grew up in Evanston, Illinois the second ol...</td>\n",
              "      <td>His</td>\n",
              "      <td>284</td>\n",
              "      <td>MacKenzie</td>\n",
              "      <td>228</td>\n",
              "      <td>Bernard Leach</td>\n",
              "      <td>251</td>\n",
              "      <td>http://en.wikipedia.org/wiki/Warren_MacKenzie</td>\n",
              "    </tr>\n",
              "    <tr>\n",
              "      <th>2</th>\n",
              "      <td>development-3</td>\n",
              "      <td>He had been reelected to Congress, but resigne...</td>\n",
              "      <td>his</td>\n",
              "      <td>265</td>\n",
              "      <td>Angeloz</td>\n",
              "      <td>173</td>\n",
              "      <td>De la Sota</td>\n",
              "      <td>246</td>\n",
              "      <td>http://en.wikipedia.org/wiki/Jos%C3%A9_Manuel_...</td>\n",
              "    </tr>\n",
              "    <tr>\n",
              "      <th>3</th>\n",
              "      <td>development-4</td>\n",
              "      <td>The current members of Crime have also perform...</td>\n",
              "      <td>his</td>\n",
              "      <td>321</td>\n",
              "      <td>Hell</td>\n",
              "      <td>174</td>\n",
              "      <td>Henry Rosenthal</td>\n",
              "      <td>336</td>\n",
              "      <td>http://en.wikipedia.org/wiki/Crime_(band)</td>\n",
              "    </tr>\n",
              "    <tr>\n",
              "      <th>4</th>\n",
              "      <td>development-5</td>\n",
              "      <td>Her Santa Fe Opera debut in 2005 was as Nuria ...</td>\n",
              "      <td>She</td>\n",
              "      <td>437</td>\n",
              "      <td>Kitty Oppenheimer</td>\n",
              "      <td>219</td>\n",
              "      <td>Rivera</td>\n",
              "      <td>294</td>\n",
              "      <td>http://en.wikipedia.org/wiki/Jessica_Rivera</td>\n",
              "    </tr>\n",
              "  </tbody>\n",
              "</table>\n",
              "</div>"
            ],
            "text/plain": [
              "              ID                                               Text Pronoun  \\\n",
              "0  development-1  Zoe Telford -- played the police officer girlf...     her   \n",
              "1  development-2  He grew up in Evanston, Illinois the second ol...     His   \n",
              "2  development-3  He had been reelected to Congress, but resigne...     his   \n",
              "3  development-4  The current members of Crime have also perform...     his   \n",
              "4  development-5  Her Santa Fe Opera debut in 2005 was as Nuria ...     She   \n",
              "\n",
              "   Pronoun-offset                  A  A-offset                B  B-offset  \\\n",
              "0             274     Cheryl Cassidy       191          Pauline       207   \n",
              "1             284          MacKenzie       228    Bernard Leach       251   \n",
              "2             265            Angeloz       173       De la Sota       246   \n",
              "3             321               Hell       174  Henry Rosenthal       336   \n",
              "4             437  Kitty Oppenheimer       219           Rivera       294   \n",
              "\n",
              "                                                 URL  \n",
              "0  http://en.wikipedia.org/wiki/List_of_Teachers_...  \n",
              "1      http://en.wikipedia.org/wiki/Warren_MacKenzie  \n",
              "2  http://en.wikipedia.org/wiki/Jos%C3%A9_Manuel_...  \n",
              "3          http://en.wikipedia.org/wiki/Crime_(band)  \n",
              "4        http://en.wikipedia.org/wiki/Jessica_Rivera  "
            ]
          },
          "metadata": {
            "tags": []
          },
          "execution_count": 2
        }
      ]
    },
    {
      "metadata": {
        "id": "12AlHz4Rt1nJ",
        "colab_type": "text"
      },
      "cell_type": "markdown",
      "source": [
        "# Data exploration"
      ]
    },
    {
      "metadata": {
        "id": "5CSyzfsBt0vW",
        "colab_type": "code",
        "outputId": "e1399f65-b834-4e8d-9183-3e2144c2df70",
        "colab": {
          "base_uri": "https://localhost:8080/",
          "height": 263
        }
      },
      "cell_type": "code",
      "source": [
        "import pandas as po\n",
        "import numpy as no\n",
        "\n",
        "dataset.info()"
      ],
      "execution_count": 0,
      "outputs": [
        {
          "output_type": "stream",
          "text": [
            "<class 'pandas.core.frame.DataFrame'>\n",
            "RangeIndex: 2000 entries, 0 to 1999\n",
            "Data columns (total 9 columns):\n",
            "ID                2000 non-null object\n",
            "Text              2000 non-null object\n",
            "Pronoun           2000 non-null object\n",
            "Pronoun-offset    2000 non-null int64\n",
            "A                 2000 non-null object\n",
            "A-offset          2000 non-null int64\n",
            "B                 2000 non-null object\n",
            "B-offset          2000 non-null int64\n",
            "URL               2000 non-null object\n",
            "dtypes: int64(3), object(6)\n",
            "memory usage: 140.7+ KB\n"
          ],
          "name": "stdout"
        }
      ]
    },
    {
      "metadata": {
        "id": "bCHDYFtOvvfE",
        "colab_type": "text"
      },
      "cell_type": "markdown",
      "source": [
        "### Unique values\n",
        "\n",
        "Notes:\n",
        "\n",
        "\n",
        "*   ID - all unique values, as expected. Good. May want to convert to integer.\n",
        "*  Text - One of the text examples in Text is the same. Further investigation is required.\n",
        "*  Pronoun - has 9 unique values. Check for casing issues or trolls\n",
        "*  Pronoun offset - what does this mean exactly? What is the connection between the value of the offset and correct identification of gender, if any? (Will find out during feature selection and model development)\n",
        "*  A - name of a person.\n",
        "*  A-offset - not sure what this is either\n",
        "*  B - name of another person (in the same Text value)\n",
        "*  B-offset - not sure what this is either\n",
        "*  URL - Some articles share links. Articles with shared authors may be a confounding factor.\n"
      ]
    },
    {
      "metadata": {
        "id": "s_Nqk340vTjC",
        "colab_type": "code",
        "outputId": "4962bef1-bc9d-489c-855d-0e4b315502c4",
        "colab": {
          "base_uri": "https://localhost:8080/",
          "height": 175
        }
      },
      "cell_type": "code",
      "source": [
        "for i in range(len(dataset.columns)):\n",
        "  print(dataset.columns[i], len(dataset[dataset.columns[i]].unique()))"
      ],
      "execution_count": 0,
      "outputs": [
        {
          "output_type": "stream",
          "text": [
            "ID 2000\n",
            "Text 1999\n",
            "Pronoun 9\n",
            "Pronoun-offset 444\n",
            "A 1793\n",
            "A-offset 450\n",
            "B 1774\n",
            "B-offset 480\n",
            "URL 1834\n"
          ],
          "name": "stdout"
        }
      ]
    },
    {
      "metadata": {
        "id": "n-pnLC43ykSh",
        "colab_type": "code",
        "outputId": "a2e42e8e-9cae-41b1-e684-e844233fec9b",
        "colab": {
          "base_uri": "https://localhost:8080/",
          "height": 35
        }
      },
      "cell_type": "code",
      "source": [
        "A_names = set(dataset[\"A\"])\n",
        "B_names = set(dataset[\"B\"])\n",
        "\n",
        "intersection = A_names.intersection(B_names)\n",
        "len(intersection)"
      ],
      "execution_count": 0,
      "outputs": [
        {
          "output_type": "execute_result",
          "data": {
            "text/plain": [
              "230"
            ]
          },
          "metadata": {
            "tags": []
          },
          "execution_count": 5
        }
      ]
    },
    {
      "metadata": {
        "id": "Dmyo0w-90qYt",
        "colab_type": "text"
      },
      "cell_type": "markdown",
      "source": [
        "###  Figuring out what offset means\n",
        "\n",
        "Theory 1: distance from the start of the sentence to the first character of the specific word (1 increment = 1 word)"
      ]
    },
    {
      "metadata": {
        "id": "HYudxs-B0t6Y",
        "colab_type": "code",
        "outputId": "e68e1698-0b77-413f-e3df-1ea79b26fe89",
        "colab": {
          "base_uri": "https://localhost:8080/",
          "height": 35
        }
      },
      "cell_type": "code",
      "source": [
        "any(list([False,2,3]))"
      ],
      "execution_count": 0,
      "outputs": [
        {
          "output_type": "execute_result",
          "data": {
            "text/plain": [
              "True"
            ]
          },
          "metadata": {
            "tags": []
          },
          "execution_count": 6
        }
      ]
    },
    {
      "metadata": {
        "id": "VRI0t2931gWg",
        "colab_type": "code",
        "outputId": "e897fcda-d54d-4fbd-e643-2dda6ca456e5",
        "colab": {
          "base_uri": "https://localhost:8080/",
          "height": 35
        }
      },
      "cell_type": "code",
      "source": [
        "def tokenize(txt):\n",
        "  i = 0\n",
        "  tokens = []\n",
        "  \n",
        "  # denote the end\n",
        "  text = txt\n",
        "  text += '#' \n",
        "  text += '@'\n",
        "  text += '&'\n",
        "  \n",
        "  word = \"\"\n",
        "  while (text[i] != '#' and text[i+1] != '@' and text[i+2] != '&'):\n",
        "    if (any([text[i] == punc for punc in [',', '.', '?', '!', '\"', ' ', ':', ';','(', ')']])):\n",
        "      if (word != \"\"):\n",
        "        tokens.append(word)\n",
        "        word = \"\"\n",
        "      punctuation = text[i];\n",
        "      tokens.append(punctuation)\n",
        "    else:\n",
        "      word += text[i]\n",
        "    i = i + 1\n",
        "  if(word!=\"\"):\n",
        "    tokens.append(word)\n",
        "  return tokens\n",
        "\n",
        "# tokenize test\n",
        "a = tokenize(\"Hello, World!\")\n",
        "a"
      ],
      "execution_count": 0,
      "outputs": [
        {
          "output_type": "execute_result",
          "data": {
            "text/plain": [
              "['Hello', ',', ' ', 'World', '!']"
            ]
          },
          "metadata": {
            "tags": []
          },
          "execution_count": 83
        }
      ]
    },
    {
      "metadata": {
        "id": "ucfrc_VH4y-J",
        "colab_type": "code",
        "outputId": "6e70b23c-aae5-41aa-c61d-eeca4142389b",
        "colab": {
          "base_uri": "https://localhost:8080/",
          "height": 72
        }
      },
      "cell_type": "code",
      "source": [
        "# tokenizing Text in the first row\n",
        "\n",
        "test_row = dataset.iloc[0]\n",
        "text = test_row[\"Text\"]\n",
        "\n",
        "test_row_tokens = tokenize(text)\n",
        "\n",
        "print(len(test_row_tokens)) # number of words\n",
        "print(text) # the entire text"
      ],
      "execution_count": 0,
      "outputs": [
        {
          "output_type": "stream",
          "text": [
            "155\n",
            "Zoe Telford -- played the police officer girlfriend of Simon, Maggie. Dumped by Simon in the final episode of series 1, after he slept with Jenny, and is not seen again. Phoebe Thomas played Cheryl Cassidy, Pauline's friend and also a year 11 pupil in Simon's class. Dumped her boyfriend following Simon's advice after he wouldn't have sex with her but later realised this was due to him catching crabs off her friend Pauline.\n"
          ],
          "name": "stdout"
        }
      ]
    },
    {
      "metadata": {
        "id": "e9HflW426eiO",
        "colab_type": "text"
      },
      "cell_type": "markdown",
      "source": [
        "A sentence is 73 words long. The offset can't be the distance between the start of text and the specified word. Maybe the characters?"
      ]
    },
    {
      "metadata": {
        "id": "dbEIFbO66niF",
        "colab_type": "code",
        "outputId": "6f818cef-ba69-4351-c73d-3afe652ae8fd",
        "colab": {
          "base_uri": "https://localhost:8080/",
          "height": 35
        }
      },
      "cell_type": "code",
      "source": [
        "def character_count(tokens):\n",
        "  punctuation = []\n",
        "  length = 0\n",
        "  for token in tokens:\n",
        "    if (not any([token == punc for punc in punctuation])):\n",
        "      length += len(token)\n",
        "  return length\n",
        "\n",
        "character_count(test_row_tokens)"
      ],
      "execution_count": 0,
      "outputs": [
        {
          "output_type": "execute_result",
          "data": {
            "text/plain": [
              "426"
            ]
          },
          "metadata": {
            "tags": []
          },
          "execution_count": 85
        }
      ]
    },
    {
      "metadata": {
        "id": "0slA3vmaUXWR",
        "colab_type": "code",
        "outputId": "087c2c50-dc16-4ee0-df7b-dd47577cdec3",
        "colab": {
          "base_uri": "https://localhost:8080/",
          "height": 55
        }
      },
      "cell_type": "code",
      "source": [
        "print(test_row_tokens)"
      ],
      "execution_count": 0,
      "outputs": [
        {
          "output_type": "stream",
          "text": [
            "['Zoe', ' ', 'Telford', ' ', '--', ' ', 'played', ' ', 'the', ' ', 'police', ' ', 'officer', ' ', 'girlfriend', ' ', 'of', ' ', 'Simon', ',', ' ', 'Maggie', '.', ' ', 'Dumped', ' ', 'by', ' ', 'Simon', ' ', 'in', ' ', 'the', ' ', 'final', ' ', 'episode', ' ', 'of', ' ', 'series', ' ', '1', ',', ' ', 'after', ' ', 'he', ' ', 'slept', ' ', 'with', ' ', 'Jenny', ',', ' ', 'and', ' ', 'is', ' ', 'not', ' ', 'seen', ' ', 'again', '.', ' ', 'Phoebe', ' ', 'Thomas', ' ', 'played', ' ', 'Cheryl', ' ', 'Cassidy', ',', ' ', \"Pauline's\", ' ', 'friend', ' ', 'and', ' ', 'also', ' ', 'a', ' ', 'year', ' ', '11', ' ', 'pupil', ' ', 'in', ' ', \"Simon's\", ' ', 'class', '.', ' ', 'Dumped', ' ', 'her', ' ', 'boyfriend', ' ', 'following', ' ', \"Simon's\", ' ', 'advice', ' ', 'after', ' ', 'he', ' ', \"wouldn't\", ' ', 'have', ' ', 'sex', ' ', 'with', ' ', 'her', ' ', 'but', ' ', 'later', ' ', 'realised', ' ', 'this', ' ', 'was', ' ', 'due', ' ', 'to', ' ', 'him', ' ', 'catching', ' ', 'crabs', ' ', 'off', ' ', 'her', ' ', 'friend', ' ', 'Pauline', '.']\n"
          ],
          "name": "stdout"
        }
      ]
    },
    {
      "metadata": {
        "id": "shjLOosj7iv1",
        "colab_type": "code",
        "colab": {}
      },
      "cell_type": "code",
      "source": [
        "def character_offset(tokens, end_token):\n",
        "  selected_tokens = []\n",
        "  for token in tokens:\n",
        "    if (token == end_token):\n",
        "      break;\n",
        "    else:\n",
        "      selected_tokens.append(token)\n",
        "  return character_count(selected_tokens)\n",
        "\n",
        "test_end_token = tokenize(test_row['A'])[0] # \"Cheryl\""
      ],
      "execution_count": 0,
      "outputs": []
    },
    {
      "metadata": {
        "id": "l27w_ufuA3Ho",
        "colab_type": "code",
        "outputId": "1fc6acd8-ec94-4450-eb37-b7bef6dcf778",
        "colab": {
          "base_uri": "https://localhost:8080/",
          "height": 35
        }
      },
      "cell_type": "code",
      "source": [
        "test_row['A-offset'] == character_offset(test_row_tokens, test_end_token)"
      ],
      "execution_count": 0,
      "outputs": [
        {
          "output_type": "execute_result",
          "data": {
            "text/plain": [
              "True"
            ]
          },
          "metadata": {
            "tags": []
          },
          "execution_count": 77
        }
      ]
    },
    {
      "metadata": {
        "id": "_AZx9wjpBBgQ",
        "colab_type": "text"
      },
      "cell_type": "markdown",
      "source": [
        "Aha! Offset is the the number of characters (including spaces!) in column Text away from the start of the specified token in column A. Let's confirm with ALL the rows now."
      ]
    },
    {
      "metadata": {
        "id": "F2nJef-qCymJ",
        "colab_type": "code",
        "outputId": "2574156c-36b0-424a-8e42-dd3e3141c279",
        "colab": {
          "base_uri": "https://localhost:8080/",
          "height": 35
        }
      },
      "cell_type": "code",
      "source": [
        "dataset.shape[0]"
      ],
      "execution_count": 0,
      "outputs": [
        {
          "output_type": "execute_result",
          "data": {
            "text/plain": [
              "2000"
            ]
          },
          "metadata": {
            "tags": []
          },
          "execution_count": 62
        }
      ]
    },
    {
      "metadata": {
        "id": "7yjwhy12CDZ-",
        "colab_type": "code",
        "outputId": "4a6e61ed-5ba9-4bd9-80f5-2dbc50a5c54b",
        "colab": {
          "base_uri": "https://localhost:8080/",
          "height": 248
        }
      },
      "cell_type": "code",
      "source": [
        "dataset_offsets = list(dataset[\"A-offset\"])\n",
        "my_offsets = []\n",
        "\n",
        "my_booleans = []\n",
        "\n",
        "for i in range(dataset.shape[0]):\n",
        "  row = dataset.iloc[i]\n",
        "  row_text = row[\"Text\"]\n",
        "  \n",
        "  row_tokens = tokenize(row_text)\n",
        "  \n",
        "  row_end_token = tokenize(row[\"A\"])[0]\n",
        "  offset_with_A = character_offset(row_tokens, row_end_token)\n",
        "  \n",
        "  my_offsets.append(offset_with_A)\n",
        "  my_booleans.append(row[\"A-offset\"] == offset_with_A)\n",
        "\n",
        "\n",
        "print(dataset_offsets)\n",
        "print(my_offsets)\n",
        "\n",
        "  \n",
        "row  "
      ],
      "execution_count": 0,
      "outputs": [
        {
          "output_type": "stream",
          "text": [
            "[191, 228, 173, 174, 219, 236, 152, 173, 255, 196, 168, 217, 247, 275, 219, 192, 334, 181, 281, 330, 113, 317, 296, 273, 210, 92, 238, 204, 153, 241, 248, 229, 345, 238, 206, 340, 227, 246, 209, 161, 194, 312, 348, 361, 245, 335, 154, 259, 138, 51, 245, 247, 189, 104, 188, 104, 183, 159, 194, 168, 305, 312, 384, 176, 152, 129, 187, 304, 212, 181, 225, 29, 279, 302, 290, 139, 228, 251, 296, 341, 169, 285, 232, 220, 240, 405, 185, 231, 296, 313, 179, 511, 117, 174, 364, 165, 403, 240, 257, 254, 214, 0, 224, 249, 183, 215, 158, 196, 217, 172, 0, 0, 184, 264, 250, 290, 188, 285, 402, 350, 224, 406, 435, 320, 192, 324, 219, 185, 129, 216, 259, 242, 186, 196, 215, 354, 183, 307, 322, 248, 409, 342, 9, 268, 251, 501, 298, 225, 318, 24, 206, 158, 379, 224, 143, 316, 497, 347, 243, 137, 167, 220, 277, 256, 439, 320, 212, 189, 255, 263, 221, 227, 295, 126, 204, 243, 237, 192, 258, 181, 200, 207, 237, 166, 53, 21, 250, 328, 220, 282, 307, 282, 327, 203, 260, 430, 240, 355, 187, 103, 138, 194, 184, 292, 174, 129, 219, 307, 198, 971, 200, 167, 254, 306, 343, 243, 205, 113, 400, 203, 342, 234, 247, 371, 0, 295, 266, 83, 195, 379, 157, 322, 14, 205, 269, 335, 194, 233, 297, 288, 262, 336, 300, 104, 193, 225, 318, 231, 230, 246, 294, 152, 195, 20, 104, 146, 176, 331, 144, 162, 192, 297, 142, 312, 308, 567, 33, 381, 237, 193, 160, 211, 115, 361, 838, 315, 338, 409, 205, 275, 241, 179, 208, 251, 256, 144, 180, 234, 216, 4, 425, 127, 310, 245, 273, 578, 301, 134, 162, 258, 265, 262, 346, 185, 648, 338, 288, 55, 330, 234, 192, 230, 233, 189, 0, 415, 198, 209, 275, 360, 210, 336, 372, 322, 222, 286, 179, 249, 286, 237, 169, 345, 279, 428, 356, 393, 239, 211, 229, 163, 269, 98, 0, 291, 244, 160, 257, 185, 251, 279, 282, 270, 126, 300, 238, 218, 181, 171, 311, 178, 233, 278, 144, 286, 190, 190, 257, 260, 281, 136, 0, 389, 218, 213, 157, 201, 277, 672, 219, 309, 73, 251, 0, 156, 199, 7, 234, 145, 147, 381, 226, 364, 289, 203, 494, 467, 370, 189, 241, 222, 237, 11, 178, 0, 394, 98, 246, 380, 232, 0, 0, 176, 216, 281, 328, 241, 0, 181, 219, 213, 130, 193, 280, 412, 239, 228, 270, 242, 192, 84, 430, 235, 370, 281, 241, 410, 228, 397, 343, 312, 225, 203, 144, 83, 452, 259, 289, 238, 421, 218, 319, 0, 115, 421, 266, 364, 302, 205, 111, 154, 304, 213, 188, 164, 142, 156, 90, 144, 112, 326, 123, 336, 211, 147, 324, 171, 502, 66, 222, 232, 260, 213, 24, 342, 197, 18, 324, 402, 298, 280, 133, 162, 206, 205, 369, 270, 470, 129, 301, 101, 158, 245, 526, 210, 300, 13, 232, 233, 479, 333, 281, 158, 284, 194, 268, 293, 103, 257, 261, 171, 134, 169, 412, 233, 235, 338, 282, 225, 263, 186, 336, 301, 178, 241, 333, 237, 333, 333, 379, 225, 309, 51, 244, 259, 327, 346, 181, 244, 341, 127, 124, 154, 232, 0, 240, 309, 192, 150, 349, 290, 316, 211, 286, 547, 192, 224, 198, 303, 256, 174, 294, 490, 207, 276, 359, 186, 186, 177, 274, 349, 312, 39, 169, 0, 401, 318, 228, 263, 193, 265, 191, 248, 304, 376, 138, 251, 282, 266, 143, 215, 110, 264, 399, 200, 213, 564, 163, 222, 195, 196, 182, 195, 246, 93, 175, 339, 187, 299, 318, 237, 321, 361, 174, 213, 320, 286, 237, 268, 391, 181, 0, 256, 24, 277, 253, 209, 168, 144, 257, 0, 351, 204, 255, 184, 268, 143, 270, 325, 320, 117, 135, 68, 302, 303, 294, 0, 167, 157, 119, 329, 161, 196, 404, 187, 182, 384, 474, 257, 597, 382, 813, 344, 212, 257, 116, 337, 205, 267, 187, 361, 291, 17, 302, 188, 248, 443, 235, 262, 329, 372, 379, 286, 213, 210, 256, 171, 232, 187, 63, 200, 0, 119, 127, 251, 144, 243, 86, 192, 210, 37, 294, 299, 136, 185, 386, 352, 205, 336, 350, 219, 288, 522, 361, 352, 222, 294, 274, 238, 331, 273, 0, 345, 39, 249, 255, 338, 348, 268, 280, 131, 316, 58, 273, 319, 223, 216, 331, 85, 217, 130, 289, 351, 271, 229, 288, 358, 277, 167, 254, 211, 221, 233, 65, 249, 353, 305, 212, 187, 233, 80, 193, 149, 266, 45, 273, 458, 350, 175, 257, 424, 15, 293, 299, 277, 455, 247, 266, 362, 178, 310, 165, 178, 379, 181, 314, 293, 295, 329, 319, 335, 319, 323, 311, 403, 49, 147, 382, 273, 258, 119, 383, 160, 255, 418, 238, 371, 23, 31, 197, 214, 264, 189, 249, 293, 162, 134, 202, 318, 190, 403, 286, 251, 352, 313, 327, 363, 113, 308, 187, 336, 603, 212, 178, 224, 123, 240, 186, 332, 176, 255, 242, 274, 195, 289, 342, 318, 105, 238, 163, 0, 217, 42, 327, 273, 291, 293, 123, 0, 293, 0, 0, 50, 73, 152, 273, 313, 199, 204, 178, 175, 279, 238, 218, 316, 343, 196, 265, 0, 391, 299, 418, 107, 224, 153, 275, 205, 255, 426, 89, 245, 347, 188, 348, 259, 464, 100, 378, 469, 363, 256, 361, 258, 0, 197, 0, 203, 243, 185, 312, 269, 196, 265, 200, 266, 21, 220, 456, 249, 239, 461, 193, 185, 336, 285, 450, 272, 328, 326, 251, 148, 393, 281, 327, 343, 285, 222, 261, 375, 221, 211, 158, 274, 147, 150, 281, 159, 382, 182, 175, 217, 355, 139, 234, 242, 92, 238, 388, 248, 239, 205, 205, 176, 217, 169, 396, 0, 339, 272, 366, 248, 143, 280, 772, 216, 262, 289, 283, 382, 335, 228, 513, 173, 166, 335, 269, 175, 278, 313, 305, 195, 0, 282, 201, 0, 238, 176, 289, 249, 278, 289, 414, 88, 53, 300, 90, 374, 185, 421, 202, 183, 274, 282, 160, 46, 264, 0, 276, 309, 204, 240, 203, 160, 294, 212, 202, 194, 249, 221, 119, 454, 266, 221, 255, 179, 334, 321, 364, 0, 17, 39, 263, 166, 94, 0, 209, 327, 204, 0, 225, 130, 378, 233, 222, 256, 312, 209, 309, 227, 323, 177, 378, 251, 130, 269, 144, 279, 81, 0, 210, 275, 339, 17, 0, 278, 359, 374, 515, 265, 307, 225, 287, 308, 254, 315, 240, 379, 295, 466, 142, 153, 237, 238, 273, 219, 240, 208, 263, 763, 198, 203, 244, 253, 125, 348, 262, 0, 242, 272, 354, 284, 141, 185, 373, 201, 182, 256, 0, 274, 248, 243, 111, 252, 304, 175, 177, 234, 182, 319, 339, 152, 144, 215, 380, 242, 169, 235, 58, 309, 169, 151, 304, 254, 303, 206, 91, 235, 232, 448, 204, 219, 283, 225, 284, 263, 298, 176, 350, 195, 181, 105, 406, 161, 41, 171, 421, 397, 282, 261, 236, 174, 309, 157, 301, 576, 273, 343, 258, 166, 383, 223, 0, 99, 194, 0, 150, 261, 230, 236, 294, 241, 303, 0, 275, 265, 254, 157, 574, 254, 132, 248, 264, 184, 258, 264, 322, 250, 522, 377, 367, 244, 324, 262, 457, 219, 220, 263, 205, 244, 288, 33, 339, 226, 302, 232, 7, 317, 0, 234, 207, 239, 279, 190, 287, 22, 265, 211, 347, 109, 266, 289, 185, 349, 34, 0, 0, 119, 255, 226, 176, 156, 290, 354, 266, 438, 203, 284, 398, 156, 242, 187, 367, 375, 298, 461, 99, 0, 80, 223, 279, 316, 213, 209, 53, 184, 207, 260, 251, 315, 184, 194, 238, 467, 110, 249, 409, 225, 217, 287, 187, 295, 264, 234, 314, 286, 292, 380, 196, 374, 189, 28, 322, 273, 365, 419, 293, 253, 205, 322, 281, 273, 278, 474, 147, 230, 202, 233, 290, 311, 149, 244, 287, 352, 224, 344, 241, 192, 81, 345, 113, 279, 474, 160, 184, 397, 329, 300, 156, 340, 269, 344, 184, 330, 57, 249, 213, 207, 303, 235, 453, 168, 375, 251, 271, 277, 201, 341, 169, 233, 174, 536, 437, 206, 89, 342, 336, 222, 164, 24, 244, 151, 206, 286, 523, 367, 228, 0, 172, 315, 268, 307, 217, 277, 297, 255, 241, 22, 428, 312, 433, 234, 270, 171, 186, 453, 378, 411, 192, 181, 17, 380, 379, 198, 376, 203, 220, 215, 190, 206, 277, 468, 231, 249, 318, 210, 245, 347, 406, 215, 216, 203, 0, 238, 240, 245, 275, 210, 284, 204, 202, 170, 262, 551, 188, 520, 66, 31, 262, 497, 260, 272, 323, 268, 168, 406, 150, 307, 241, 240, 205, 337, 184, 458, 263, 375, 215, 312, 243, 465, 232, 259, 288, 429, 123, 367, 290, 161, 322, 261, 185, 382, 226, 263, 173, 318, 253, 244, 56, 187, 249, 287, 177, 277, 248, 91, 349, 48, 395, 158, 184, 303, 0, 161, 309, 193, 276, 275, 757, 369, 372, 0, 318, 506, 310, 47, 286, 195, 285, 570, 200, 230, 171, 314, 192, 189, 282, 91, 350, 287, 203, 158, 398, 356, 296, 352, 156, 156, 0, 335, 202, 302, 229, 219, 245, 177, 250, 170, 300, 376, 417, 229, 179, 159, 257, 233, 271, 256, 379, 246, 222, 228, 502, 223, 272, 388, 184, 181, 310, 411, 173, 181, 200, 308, 334, 227, 303, 333, 633, 163, 178, 262, 283, 260, 332, 275, 249, 254, 378, 275, 181, 247, 216, 276, 240, 509, 125, 546, 207, 280, 282, 266, 268, 343, 360, 159, 167, 214, 209, 316, 209, 368, 133, 396, 217, 154, 247, 157, 201, 178, 418, 295, 181, 234, 226, 237, 96, 108, 378, 311, 227, 287, 180, 364, 468, 352, 131, 463, 259, 235, 275, 187, 240, 177, 283, 254, 26, 130, 57, 133, 278, 306, 176, 270, 295, 216, 107, 298, 157, 182, 194, 371, 270, 294, 334, 256, 251, 0, 0, 186, 310, 197, 175, 100, 241, 174, 216, 282, 304, 159, 406, 298, 70, 186, 204, 216, 222, 261, 211, 59, 263, 189, 297, 182, 312, 459, 351, 386, 287, 244, 384, 186, 308, 154, 320, 187, 135, 282, 184, 176, 261, 386, 248, 251, 141, 300, 159, 121, 354, 226, 230, 127, 249, 129, 306, 247, 215, 257, 21, 204, 296, 82, 0, 199, 226, 308, 308, 30, 197, 0, 39, 0, 567, 374, 213, 183, 148, 0, 173, 225, 230, 255, 138, 237, 234, 103, 270, 102, 183, 323, 339, 178, 231, 369, 245, 161, 207, 169, 281, 285, 236, 65, 149, 174, 175, 61, 200, 380, 333, 186, 250, 0, 73, 350, 444, 384, 202, 16, 102, 138, 57, 551, 203, 536, 207, 190, 257, 206, 98, 279, 345, 307, 181, 217, 218, 46, 154, 275, 218, 158, 319, 247, 160, 218, 22, 214, 176, 97, 152, 169, 216, 0, 317, 346, 177, 182, 231, 253, 188, 254, 165, 175, 241, 195, 315, 196, 124, 46, 152, 149, 197, 299, 302, 169, 296, 341, 318, 369, 96, 278, 23, 441, 178, 389, 281, 212, 244, 322, 52, 333, 160, 41, 264, 28, 322, 270, 239, 265, 226, 263, 358, 451, 249, 0, 72, 76, 302, 80, 252, 217, 5, 192, 418, 358, 257, 87, 0, 294, 0, 0, 131, 229, 370, 249, 255, 206, 250, 170, 258, 249, 369, 0, 25, 25, 167, 132, 270, 253, 172, 231, 331, 267, 224, 207, 0, 365, 203, 166, 273, 128, 132, 106, 195, 379, 240, 169, 379, 297, 303, 167, 239, 290, 0, 14, 202, 264, 171, 162, 150, 254, 263, 290, 331, 205, 185, 315, 9, 185, 70, 335, 51, 240, 354, 60, 250, 235, 252, 327, 190, 247, 30, 60, 361, 299, 169, 217, 172, 351, 245, 269, 179, 458, 295, 170, 285, 130, 317, 228, 206, 136, 231, 408, 0, 211, 193, 235, 216, 176, 184, 37, 31, 355, 264, 101, 343, 363, 131, 255, 111, 259, 145, 293]\n",
            "[191, 228, 173, 174, 219, 7, 0, 173, 128, 196, 168, 199, 151, 275, 58, 192, 0, 181, 97, 264, 113, 175, 91, 273, 210, 92, 238, 131, 153, 49, 248, 229, 102, 238, 206, 340, 227, 74, 24, 161, 194, 312, 168, 568, 388, 335, 154, 378, 138, 51, 312, 247, 189, 104, 188, 104, 183, 0, 194, 60, 305, 312, 54, 176, 125, 129, 187, 10, 212, 436, 151, 29, 117, 302, 72, 139, 228, 251, 296, 53, 169, 34, 125, 220, 141, 405, 185, 37, 220, 201, 179, 511, 117, 174, 0, 165, 403, 240, 257, 0, 214, 0, 224, 249, 0, 146, 0, 17, 79, 172, 0, 0, 184, 264, 96, 158, 188, 201, 402, 0, 224, 406, 18, 120, 192, 324, 219, 0, 129, 216, 259, 242, 0, 196, 215, 0, 183, 179, 322, 47, 102, 53, 9, 67, 0, 219, 298, 225, 318, 24, 206, 79, 379, 130, 62, 316, 497, 47, 243, 137, 167, 220, 460, 256, 439, 320, 0, 189, 89, 465, 221, 108, 19, 6, 204, 243, 237, 58, 258, 181, 200, 207, 237, 166, 53, 21, 250, 200, 212, 396, 43, 155, 327, 54, 260, 430, 135, 355, 187, 103, 138, 194, 0, 292, 56, 0, 135, 307, 115, 483, 200, 167, 254, 306, 299, 28, 205, 113, 400, 203, 342, 0, 65, 281, 0, 295, 266, 83, 195, 379, 273, 322, 14, 205, 104, 335, 194, 122, 0, 288, 262, 336, 300, 104, 193, 116, 3, 0, 8, 246, 294, 152, 0, 20, 104, 146, 0, 121, 144, 20, 54, 297, 142, 78, 277, 314, 309, 381, 237, 89, 160, 211, 32, 361, 838, 315, 338, 409, 11, 275, 241, 179, 63, 251, 256, 115, 180, 234, 216, 4, 0, 127, 310, 17, 273, 69, 26, 134, 0, 156, 265, 157, 346, 15, 0, 338, 20, 55, 330, 184, 192, 0, 61, 6, 0, 0, 198, 209, 275, 360, 210, 336, 23, 30, 486, 38, 60, 479, 286, 237, 37, 345, 279, 428, 356, 393, 239, 0, 47, 0, 31, 98, 0, 146, 104, 138, 179, 185, 251, 279, 73, 202, 126, 132, 238, 218, 68, 171, 37, 40, 233, 159, 144, 20, 190, 190, 257, 112, 281, 136, 0, 448, 218, 213, 290, 201, 89, 672, 219, 218, 73, 251, 0, 156, 56, 7, 0, 29, 147, 381, 226, 364, 289, 203, 494, 467, 209, 50, 0, 222, 0, 11, 178, 0, 255, 98, 246, 0, 0, 0, 0, 30, 216, 281, 328, 241, 0, 0, 219, 18, 0, 193, 280, 412, 31, 228, 270, 81, 192, 84, 342, 207, 16, 281, 41, 145, 228, 397, 343, 312, 147, 203, 144, 83, 129, 259, 289, 86, 421, 218, 319, 0, 441, 208, 40, 364, 302, 205, 111, 154, 304, 213, 404, 130, 142, 145, 90, 54, 112, 326, 123, 6, 211, 147, 151, 171, 502, 66, 137, 416, 260, 14, 24, 71, 197, 18, 324, 176, 41, 280, 75, 96, 206, 205, 369, 270, 470, 129, 301, 49, 158, 245, 7, 175, 300, 13, 232, 0, 304, 333, 24, 158, 284, 194, 268, 293, 73, 185, 261, 171, 79, 0, 290, 233, 235, 0, 282, 49, 263, 186, 336, 301, 178, 79, 333, 237, 333, 333, 379, 225, 309, 425, 244, 19, 0, 0, 181, 45, 341, 21, 124, 154, 181, 0, 240, 40, 192, 150, 349, 16, 239, 211, 286, 547, 192, 42, 198, 303, 256, 174, 3, 490, 121, 276, 135, 186, 186, 177, 266, 149, 104, 39, 169, 0, 401, 191, 108, 263, 193, 265, 24, 248, 304, 376, 138, 58, 89, 20, 226, 215, 110, 264, 516, 200, 213, 564, 62, 222, 493, 196, 149, 6, 128, 93, 79, 339, 187, 299, 318, 340, 321, 174, 174, 213, 57, 286, 237, 174, 261, 181, 0, 47, 24, 277, 253, 209, 66, 144, 50, 0, 351, 204, 121, 184, 268, 143, 118, 55, 69, 117, 135, 29, 302, 303, 294, 0, 76, 157, 119, 13, 161, 196, 404, 187, 18, 0, 474, 181, 597, 382, 728, 344, 212, 11, 116, 337, 15, 267, 187, 361, 383, 17, 302, 188, 154, 243, 235, 262, 329, 88, 379, 0, 213, 210, 75, 0, 232, 96, 6, 169, 0, 37, 127, 61, 144, 243, 86, 192, 210, 37, 84, 299, 136, 170, 0, 11, 0, 336, 125, 81, 288, 522, 361, 352, 0, 294, 274, 238, 331, 0, 0, 345, 39, 287, 255, 116, 348, 577, 187, 40, 155, 58, 0, 319, 223, 36, 331, 85, 217, 0, 289, 351, 271, 229, 48, 358, 522, 167, 254, 211, 221, 233, 65, 249, 353, 278, 212, 332, 233, 0, 193, 149, 266, 45, 179, 64, 350, 126, 257, 424, 173, 293, 227, 106, 100, 247, 9, 44, 178, 73, 12, 178, 379, 181, 83, 293, 266, 329, 319, 335, 6, 323, 311, 403, 49, 147, 382, 26, 258, 119, 383, 160, 0, 418, 110, 371, 23, 31, 142, 155, 23, 35, 0, 293, 48, 134, 46, 318, 190, 254, 210, 251, 352, 51, 327, 0, 113, 308, 187, 19, 59, 212, 23, 340, 123, 240, 25, 332, 176, 30, 115, 274, 0, 289, 24, 186, 105, 238, 163, 0, 217, 42, 327, 273, 82, 15, 7, 0, 293, 0, 0, 50, 73, 9, 273, 313, 199, 204, 178, 175, 279, 0, 218, 316, 44, 196, 104, 0, 49, 299, 303, 107, 28, 153, 11, 205, 255, 426, 89, 245, 347, 78, 212, 0, 26, 100, 378, 301, 363, 0, 48, 258, 0, 110, 0, 203, 243, 185, 312, 9, 196, 169, 200, 266, 21, 220, 456, 36, 124, 461, 193, 91, 0, 51, 0, 355, 286, 326, 251, 148, 393, 178, 327, 343, 285, 222, 261, 375, 53, 156, 158, 274, 147, 150, 281, 159, 382, 43, 7, 217, 355, 139, 234, 177, 8, 238, 388, 17, 239, 205, 205, 176, 17, 169, 396, 0, 31, 272, 366, 241, 143, 88, 772, 216, 425, 0, 218, 94, 174, 228, 438, 173, 139, 82, 428, 175, 369, 110, 305, 12, 0, 282, 72, 0, 178, 439, 289, 249, 278, 466, 414, 88, 53, 5, 90, 374, 185, 421, 202, 124, 20, 282, 160, 46, 197, 0, 197, 68, 204, 240, 203, 57, 0, 212, 202, 194, 249, 221, 119, 332, 49, 37, 255, 179, 334, 321, 364, 0, 17, 39, 263, 166, 94, 0, 209, 11, 204, 0, 194, 0, 6, 233, 135, 256, 312, 553, 309, 285, 157, 177, 0, 251, 130, 269, 23, 63, 81, 0, 210, 275, 339, 17, 0, 278, 359, 33, 515, 7, 307, 109, 287, 308, 254, 315, 240, 379, 295, 153, 66, 0, 237, 238, 273, 93, 240, 51, 263, 57, 18, 203, 354, 253, 125, 0, 262, 0, 161, 272, 354, 0, 141, 19, 231, 201, 0, 256, 0, 274, 248, 243, 111, 252, 285, 175, 303, 234, 182, 67, 339, 152, 144, 215, 66, 242, 169, 29, 58, 208, 126, 151, 0, 254, 58, 206, 6, 235, 6, 51, 204, 78, 283, 225, 17, 7, 49, 403, 0, 195, 181, 105, 406, 161, 41, 171, 335, 0, 282, 261, 236, 174, 309, 78, 301, 576, 273, 343, 258, 58, 383, 223, 0, 99, 129, 0, 150, 87, 230, 236, 294, 241, 13, 0, 14, 0, 254, 157, 574, 353, 132, 248, 264, 184, 258, 256, 0, 56, 522, 377, 367, 0, 0, 262, 370, 219, 220, 55, 205, 244, 9, 33, 339, 32, 455, 232, 7, 220, 0, 161, 207, 347, 279, 190, 287, 22, 265, 105, 347, 0, 266, 140, 185, 53, 34, 0, 0, 119, 255, 226, 176, 156, 224, 32, 171, 438, 203, 48, 104, 156, 242, 139, 367, 100, 12, 0, 0, 0, 80, 45, 279, 316, 37, 67, 53, 50, 207, 154, 251, 18, 18, 194, 238, 467, 110, 249, 502, 225, 17, 287, 187, 295, 54, 234, 6, 136, 610, 380, 196, 0, 88, 28, 322, 55, 365, 419, 293, 253, 54, 275, 281, 99, 278, 474, 147, 400, 202, 233, 290, 311, 5, 244, 173, 352, 195, 35, 164, 20, 81, 0, 54, 279, 474, 85, 184, 397, 329, 300, 156, 229, 269, 344, 0, 676, 272, 135, 58, 18, 149, 0, 343, 32, 375, 93, 271, 175, 201, 341, 85, 233, 8, 536, 30, 47, 0, 342, 649, 222, 164, 24, 244, 151, 9, 286, 421, 367, 503, 0, 0, 28, 268, 307, 109, 0, 447, 9, 195, 22, 428, 312, 178, 211, 270, 82, 5, 8, 323, 411, 192, 181, 17, 380, 379, 25, 695, 0, 14, 215, 190, 6, 277, 468, 22, 249, 318, 210, 245, 347, 406, 95, 0, 125, 0, 88, 218, 245, 96, 210, 284, 204, 0, 170, 262, 261, 73, 254, 66, 31, 19, 141, 26, 272, 288, 268, 12, 0, 150, 307, 241, 240, 205, 315, 184, 458, 239, 306, 150, 312, 243, 91, 20, 259, 64, 315, 123, 367, 26, 161, 106, 69, 185, 167, 226, 51, 173, 318, 64, 244, 56, 53, 227, 8, 327, 277, 248, 91, 349, 48, 395, 158, 184, 303, 0, 161, 203, 0, 276, 0, 757, 0, 106, 0, 318, 506, 310, 47, 286, 137, 285, 570, 200, 230, 171, 314, 177, 189, 39, 15, 350, 287, 44, 158, 0, 282, 391, 352, 156, 156, 0, 326, 19, 97, 207, 219, 245, 0, 250, 170, 300, 259, 559, 229, 179, 35, 34, 6, 63, 0, 0, 17, 222, 228, 137, 211, 272, 388, 84, 120, 310, 591, 173, 181, 200, 308, 334, 40, 303, 333, 633, 64, 178, 262, 42, 260, 332, 173, 23, 254, 378, 109, 181, 117, 125, 276, 152, 36, 90, 546, 207, 280, 220, 45, 268, 66, 0, 159, 167, 214, 209, 316, 209, 256, 0, 396, 0, 154, 247, 52, 55, 178, 418, 0, 0, 234, 24, 237, 96, 14, 378, 9, 227, 93, 7, 59, 27, 352, 0, 251, 259, 235, 464, 12, 473, 0, 283, 254, 26, 0, 0, 133, 278, 53, 176, 270, 221, 216, 107, 298, 77, 0, 86, 371, 183, 14, 144, 256, 131, 0, 0, 186, 198, 17, 138, 100, 241, 14, 5, 19, 304, 135, 0, 61, 70, 186, 204, 216, 222, 261, 211, 59, 42, 189, 221, 182, 77, 459, 175, 39, 287, 244, 384, 155, 0, 52, 320, 187, 135, 282, 184, 176, 261, 386, 9, 251, 20, 300, 53, 121, 48, 226, 230, 340, 249, 35, 306, 247, 215, 257, 21, 204, 296, 82, 0, 199, 226, 57, 57, 30, 99, 0, 0, 21, 440, 374, 213, 183, 148, 0, 173, 225, 230, 38, 138, 0, 234, 103, 6, 501, 183, 323, 129, 178, 30, 110, 245, 161, 207, 169, 56, 128, 119, 65, 149, 28, 175, 61, 200, 182, 333, 186, 0, 0, 73, 350, 444, 384, 202, 16, 102, 138, 57, 0, 203, 1092, 11, 22, 257, 206, 20, 553, 345, 307, 181, 409, 218, 46, 154, 0, 0, 0, 319, 247, 53, 0, 22, 197, 0, 97, 152, 169, 216, 0, 317, 346, 177, 182, 231, 253, 0, 349, 165, 175, 241, 195, 315, 85, 31, 46, 29, 149, 197, 217, 101, 169, 296, 210, 318, 343, 96, 278, 23, 216, 178, 389, 281, 212, 128, 322, 0, 83, 82, 41, 264, 28, 322, 34, 25, 265, 226, 158, 35, 451, 249, 0, 72, 76, 13, 80, 252, 217, 5, 192, 7, 16, 257, 5, 0, 0, 0, 0, 56, 229, 237, 249, 255, 206, 204, 170, 258, 90, 369, 0, 25, 25, 167, 132, 145, 79, 172, 231, 26, 166, 224, 207, 0, 0, 103, 166, 273, 128, 132, 106, 195, 519, 240, 435, 379, 80, 303, 167, 239, 290, 0, 14, 202, 35, 0, 139, 150, 145, 263, 290, 331, 205, 164, 500, 262, 23, 70, 116, 51, 240, 238, 114, 175, 235, 120, 327, 190, 247, 147, 60, 28, 22, 14, 217, 172, 474, 245, 78, 179, 535, 20, 170, 248, 130, 317, 228, 386, 25, 231, 408, 0, 123, 171, 235, 38, 176, 149, 37, 104, 191, 107, 101, 199, 363, 131, 62, 111, 259, 145, 293]\n"
          ],
          "name": "stdout"
        },
        {
          "output_type": "execute_result",
          "data": {
            "text/plain": [
              "ID                                                 development-2000\n",
              "Text              Watkins was a close friend of Hess' first wife...\n",
              "Pronoun                                                         her\n",
              "Pronoun-offset                                                  373\n",
              "A                                                         Elizabeth\n",
              "A-offset                                                        293\n",
              "B                                                           Watkins\n",
              "B-offset                                                        347\n",
              "URL                      http://en.wikipedia.org/wiki/Linda_Watkins\n",
              "Name: 1999, dtype: object"
            ]
          },
          "metadata": {
            "tags": []
          },
          "execution_count": 87
        }
      ]
    },
    {
      "metadata": {
        "id": "1h2cHcn6VTCo",
        "colab_type": "code",
        "colab": {}
      },
      "cell_type": "code",
      "source": [
        ""
      ],
      "execution_count": 0,
      "outputs": []
    },
    {
      "metadata": {
        "id": "CQyeYudPVpwV",
        "colab_type": "code",
        "outputId": "40630ddc-cd47-43f7-ac44-c4495f6e338c",
        "colab": {
          "base_uri": "https://localhost:8080/",
          "height": 35
        }
      },
      "cell_type": "code",
      "source": [
        "tokenize(dataset.iloc[2][\"A\"])"
      ],
      "execution_count": 0,
      "outputs": [
        {
          "output_type": "execute_result",
          "data": {
            "text/plain": [
              "[]"
            ]
          },
          "metadata": {
            "tags": []
          },
          "execution_count": 71
        }
      ]
    },
    {
      "metadata": {
        "id": "Z0j1zQPVFSgE",
        "colab_type": "code",
        "colab": {}
      },
      "cell_type": "code",
      "source": [
        "test_row = dataset.iloc[0]\n",
        "tokenize(test_row[\"A\"])[0]"
      ],
      "execution_count": 0,
      "outputs": []
    },
    {
      "metadata": {
        "id": "JezGdPEkIYG-",
        "colab_type": "code",
        "outputId": "8b34c99c-d54e-4849-865d-603e6ada7f5c",
        "colab": {
          "base_uri": "https://localhost:8080/",
          "height": 72
        }
      },
      "cell_type": "code",
      "source": [
        "row_four = dataset.iloc[3]\n",
        "row_four_text = row_four[\"Text\"]\n",
        "row_four_A = tokenize(row_four[\"A\"])[0]\n",
        "row_four_tokens = tokenize(row_four_text)\n",
        "print(row_four_A)\n",
        "print(row_four_tokens)\n",
        "\n",
        "#fixed"
      ],
      "execution_count": 0,
      "outputs": [
        {
          "output_type": "stream",
          "text": [
            "Hell\n",
            "['The', ' ', 'current', ' ', 'members', ' ', 'of', ' ', 'Crime', ' ', 'have', ' ', 'also', ' ', 'performed', ' ', 'in', ' ', 'San', ' ', 'Francisco', ' ', 'under', ' ', 'the', ' ', 'band', ' ', 'name', ' ', \"''Remote\", ' ', 'Viewers``', '.', ' ', 'Strike', ' ', 'has', ' ', 'published', ' ', 'two', ' ', 'works', ' ', 'of', ' ', 'fiction', ' ', 'in', ' ', 'recent', ' ', 'years:', ' ', 'Ports', ' ', 'of', ' ', 'Hell', ',', ' ', 'which', ' ', 'is', ' ', 'listed', ' ', 'in', ' ', 'the', ' ', 'Rock', ' ', 'and', ' ', 'Roll', ' ', 'Hall', ' ', 'of', ' ', 'Fame', ' ', 'Library', ',', ' ', 'and', ' ', 'A', ' ', 'Loud', ' ', 'Humming', ' ', 'Sound', ' ', 'Came', ' ', 'from', ' ', 'Above', '.', ' ', 'Rank', ' ', 'has', ' ', 'produced', ' ', 'numerous', ' ', 'films', ' ', '(under', ' ', 'his', ' ', 'real', ' ', 'name', ',', ' ', 'Henry', ' ', 'Rosenthal)', ' ', 'including', ' ', 'the', ' ', 'hit', ' ', 'The', ' ', 'Devil', ' ', 'and', ' ', 'Daniel', ' ', 'Johnston', '.']\n"
          ],
          "name": "stdout"
        }
      ]
    },
    {
      "metadata": {
        "id": "SdQHyqxEXGsQ",
        "colab_type": "code",
        "outputId": "515b5f89-f39e-4be4-b0df-2681753db3ed",
        "colab": {
          "base_uri": "https://localhost:8080/",
          "height": 72
        }
      },
      "cell_type": "code",
      "source": [
        "row_six = dataset.iloc[5]\n",
        "row_six_text = row_six[\"Text\"]\n",
        "row_six_A = tokenize(row_six[\"A\"])[0]\n",
        "row_six_tokens = tokenize(row_six_text)\n",
        "print(row_six_A)\n",
        "print(row_six_tokens)"
      ],
      "execution_count": 0,
      "outputs": [
        {
          "output_type": "stream",
          "text": [
            "Collins\n",
            "['Sandra', ' ', 'Collins', ' ', 'is', ' ', 'an', ' ', 'American', ' ', 'DJ', '.', ' ', 'She', ' ', 'got', ' ', 'her', ' ', 'start', ' ', 'on', ' ', 'the', ' ', 'West', ' ', 'Coast', ' ', 'of', ' ', 'the', ' ', 'U', '.', 'S', '.', ' ', 'in', ' ', 'Phoenix', ',', ' ', 'Arizona', ' ', 'and', ' ', 'into', ' ', 'residencies', ' ', 'in', ' ', 'Los', ' ', 'Angeles', ',', ' ', 'and', ' ', 'eventually', ' ', 'moved', ' ', 'towards', ' ', 'trance', '.', ' ', 'She', ' ', 'used', ' ', 'American', ' ', 'producers', ' ', 'to', ' ', 'give', ' ', 'herself', ' ', 'a', ' ', 'unique', ' ', 'sound', '.', ' ', 'Collins', ' ', 'performed', ' ', 'for', ' ', 'an', ' ', 'estimated', ' ', '80', ',', '000', ' ', 'people', ' ', 'on', ' ', 'the', ' ', 'first', ' ', 'night', ' ', 'of', ' ', 'Woodstock', ' ', \"'99\", ',', ' ', 'and', ' ', 'was', ' ', 'the', ' ', 'first', ' ', 'female', ' ', 'DJ', ' ', 'featured', ' ', 'in', ' ', 'the', ' ', 'Tranceport', ' ', 'series', ' ', 'of', ' ', 'influential', ' ', 'recordings', '.', ' ', 'She', ' ', 'recently', ' ', 'has', ' ', 'released', ' ', 'two', ' ', 'CD', ' ', 'mixes', ' ', 'under', ' ', 'Paul', ' ', \"Oakenfold's\", ' ', 'Perfecto', ' ', 'label', '.']\n"
          ],
          "name": "stdout"
        }
      ]
    },
    {
      "metadata": {
        "id": "vhDNONhVX5WF",
        "colab_type": "text"
      },
      "cell_type": "markdown",
      "source": [
        "Conclusions: \n",
        "*  the keys in Column A could be repeated throughout the sentence (as seen through row_six and \"Collins\"). \n",
        "*  The character offset includes all types of punctuation, and all characters.\n",
        "\n",
        "Notes:\n",
        "* my tokenize() function distinguishes between characters that make up words and punctuation. Punctuation may prove important in determining whom the pronoun is truly referring to."
      ]
    },
    {
      "metadata": {
        "id": "lwLxj8rcbqHi",
        "colab_type": "text"
      },
      "cell_type": "markdown",
      "source": [
        "## Developing baseline models\n",
        "\n",
        "By now, we know what offset is, and its potential significance in determining whom the pronoun is referring to. We know enough to develop a baseline model. Of course, without labels, this makes classification hard (and reading 2000 sentences to manually label each one is a painstaking process that completely misses the point of this challenge: developing an unsupervised learning model.)"
      ]
    },
    {
      "metadata": {
        "id": "Ud3Aa60jd6lE",
        "colab_type": "code",
        "colab": {}
      },
      "cell_type": "code",
      "source": [
        ""
      ],
      "execution_count": 0,
      "outputs": []
    }
  ]
}